{
 "cells": [
  {
   "cell_type": "code",
   "execution_count": 1,
   "id": "a80670b4",
   "metadata": {
    "_cell_guid": "b1076dfc-b9ad-4769-8c92-a6c4dae69d19",
    "_uuid": "8f2839f25d086af736a60e9eeb907d3b93b6e0e5",
    "execution": {
     "iopub.execute_input": "2022-08-03T01:43:04.022447Z",
     "iopub.status.busy": "2022-08-03T01:43:04.021503Z",
     "iopub.status.idle": "2022-08-03T01:43:16.032470Z",
     "shell.execute_reply": "2022-08-03T01:43:16.031036Z"
    },
    "papermill": {
     "duration": 12.021634,
     "end_time": "2022-08-03T01:43:16.036713",
     "exception": false,
     "start_time": "2022-08-03T01:43:04.015079",
     "status": "completed"
    },
    "tags": []
   },
   "outputs": [],
   "source": [
    "# This Python 3 environment comes with many helpful analytics libraries installed\n",
    "# It is defined by the kaggle/python Docker image: https://github.com/kaggle/docker-python\n",
    "# For example, here's several helpful packages to load\n",
    "\n",
    "import numpy as np # linear algebra\n",
    "import pandas as pd # data processing, CSV file I/O (e.g. pd.read_csv)\n",
    "import tensorflow as tf\n",
    "import tensorflow_addons as tfa\n",
    "# Input data files are available in the read-only \"../input/\" directory\n",
    "# For example, running this (by clicking run or pressing Shift+Enter) will list all files under the input directory\n",
    "import matplotlib.pyplot as plt\n",
    "\n",
    "colors = plt.rcParams['axes.prop_cycle'].by_key()['color']\n",
    "import os\n",
    "# for dirname, _, filenames in os.walk('/kaggle/input'):\n",
    "#     for filename in filenames:\n",
    "#         print(os.path.join(dirname, filename))\n",
    "\n",
    "# You can write up to 20GB to the current directory (/kaggle/working/) that gets preserved as output when you create a version using \"Save & Run All\" \n",
    "# You can also write temporary files to /kaggle/temp/, but they won't be saved outside of the current session"
   ]
  },
  {
   "cell_type": "code",
   "execution_count": 2,
   "id": "4c406657",
   "metadata": {
    "execution": {
     "iopub.execute_input": "2022-08-03T01:43:16.045698Z",
     "iopub.status.busy": "2022-08-03T01:43:16.044988Z",
     "iopub.status.idle": "2022-08-03T01:43:16.147772Z",
     "shell.execute_reply": "2022-08-03T01:43:16.146531Z"
    },
    "papermill": {
     "duration": 0.110344,
     "end_time": "2022-08-03T01:43:16.151015",
     "exception": false,
     "start_time": "2022-08-03T01:43:16.040671",
     "status": "completed"
    },
    "tags": []
   },
   "outputs": [],
   "source": [
    "train_df = pd.read_csv('../input/nlp-getting-started/train.csv')\n",
    "test_df = pd.read_csv('../input/nlp-getting-started/test.csv')\n",
    "train_df.drop(labels=['keyword','location','id'],axis=1,inplace=True)\n",
    "test_df.drop(labels=['keyword','location','id'],axis=1,inplace=True)"
   ]
  },
  {
   "cell_type": "code",
   "execution_count": 3,
   "id": "1e085239",
   "metadata": {
    "execution": {
     "iopub.execute_input": "2022-08-03T01:43:16.159994Z",
     "iopub.status.busy": "2022-08-03T01:43:16.158862Z",
     "iopub.status.idle": "2022-08-03T01:43:16.820569Z",
     "shell.execute_reply": "2022-08-03T01:43:16.819588Z"
    },
    "papermill": {
     "duration": 0.669445,
     "end_time": "2022-08-03T01:43:16.823654",
     "exception": false,
     "start_time": "2022-08-03T01:43:16.154209",
     "status": "completed"
    },
    "tags": []
   },
   "outputs": [
    {
     "name": "stderr",
     "output_type": "stream",
     "text": [
      "2022-08-03 01:43:16.214210: I tensorflow/core/common_runtime/process_util.cc:146] Creating new thread pool with default inter op setting: 2. Tune using inter_op_parallelism_threads for best performance.\n",
      "2022-08-03 01:43:16.351901: I tensorflow/compiler/mlir/mlir_graph_optimization_pass.cc:185] None of the MLIR Optimization Passes are enabled (registered 2)\n"
     ]
    }
   ],
   "source": [
    "VOCAB_SIZE = 24000\n",
    "encoder = tf.keras.layers.TextVectorization(\n",
    "    max_tokens=VOCAB_SIZE)\n",
    "encoder.adapt(train_df['text'])"
   ]
  },
  {
   "cell_type": "code",
   "execution_count": 4,
   "id": "7e686224",
   "metadata": {
    "execution": {
     "iopub.execute_input": "2022-08-03T01:43:16.832500Z",
     "iopub.status.busy": "2022-08-03T01:43:16.831858Z",
     "iopub.status.idle": "2022-08-03T01:43:22.727368Z",
     "shell.execute_reply": "2022-08-03T01:43:22.725993Z"
    },
    "papermill": {
     "duration": 5.903783,
     "end_time": "2022-08-03T01:43:22.730532",
     "exception": false,
     "start_time": "2022-08-03T01:43:16.826749",
     "status": "completed"
    },
    "tags": []
   },
   "outputs": [],
   "source": [
    "model = tf.keras.Sequential([\n",
    "    encoder,\n",
    "    tf.keras.layers.Embedding(\n",
    "        input_dim=len(encoder.get_vocabulary()),\n",
    "        output_dim=64,\n",
    "        # Use masking to handle the variable sequence lengths\n",
    "        mask_zero=True),\n",
    "    tf.keras.layers.Bidirectional(tf.keras.layers.LSTM(64,  return_sequences=True)),\n",
    "    tf.keras.layers.Bidirectional(tf.keras.layers.LSTM(32, return_sequences=True)),\n",
    "    tf.keras.layers.Bidirectional(tf.keras.layers.LSTM(16)),\n",
    "    tf.keras.layers.Dense(64, activation='relu'),\n",
    "    tf.keras.layers.Dropout(0.5),\n",
    "    tf.keras.layers.Dense(1)\n",
    "])"
   ]
  },
  {
   "cell_type": "code",
   "execution_count": 5,
   "id": "f38f9069",
   "metadata": {
    "execution": {
     "iopub.execute_input": "2022-08-03T01:43:22.737834Z",
     "iopub.status.busy": "2022-08-03T01:43:22.737439Z",
     "iopub.status.idle": "2022-08-03T01:43:22.756847Z",
     "shell.execute_reply": "2022-08-03T01:43:22.755669Z"
    },
    "papermill": {
     "duration": 0.0263,
     "end_time": "2022-08-03T01:43:22.759713",
     "exception": false,
     "start_time": "2022-08-03T01:43:22.733413",
     "status": "completed"
    },
    "tags": []
   },
   "outputs": [],
   "source": [
    "model.compile(loss=tf.keras.losses.BinaryCrossentropy(from_logits=True),\n",
    "              optimizer=tf.keras.optimizers.Adam(1e-4),\n",
    "              metrics=tf.metrics.BinaryAccuracy(threshold=0.4))"
   ]
  },
  {
   "cell_type": "code",
   "execution_count": 6,
   "id": "f9563ad8",
   "metadata": {
    "execution": {
     "iopub.execute_input": "2022-08-03T01:43:22.767483Z",
     "iopub.status.busy": "2022-08-03T01:43:22.767058Z",
     "iopub.status.idle": "2022-08-03T01:45:17.571595Z",
     "shell.execute_reply": "2022-08-03T01:45:17.569703Z"
    },
    "papermill": {
     "duration": 114.812314,
     "end_time": "2022-08-03T01:45:17.574982",
     "exception": false,
     "start_time": "2022-08-03T01:43:22.762668",
     "status": "completed"
    },
    "tags": []
   },
   "outputs": [
    {
     "name": "stdout",
     "output_type": "stream",
     "text": [
      "Epoch 1/5\n",
      "96/96 [==============================] - 47s 251ms/step - loss: 0.6888 - binary_accuracy: 0.5793 - val_loss: 0.6898 - val_binary_accuracy: 0.5345\n",
      "Epoch 2/5\n",
      "96/96 [==============================] - 17s 183ms/step - loss: 0.6571 - binary_accuracy: 0.5793 - val_loss: 0.6277 - val_binary_accuracy: 0.5345\n",
      "Epoch 3/5\n",
      "96/96 [==============================] - 16s 165ms/step - loss: 0.5173 - binary_accuracy: 0.6860 - val_loss: 0.5255 - val_binary_accuracy: 0.7702\n",
      "Epoch 4/5\n",
      "96/96 [==============================] - 17s 175ms/step - loss: 0.3444 - binary_accuracy: 0.8762 - val_loss: 0.5178 - val_binary_accuracy: 0.7814\n",
      "Epoch 5/5\n",
      "96/96 [==============================] - 17s 181ms/step - loss: 0.2429 - binary_accuracy: 0.9248 - val_loss: 0.5694 - val_binary_accuracy: 0.7787\n"
     ]
    }
   ],
   "source": [
    "history = model.fit(x = train_df['text'], y = train_df['target'], epochs=5,\n",
    "                    validation_split=0.2, batch_size=64)"
   ]
  },
  {
   "cell_type": "code",
   "execution_count": 7,
   "id": "48d81aaf",
   "metadata": {
    "execution": {
     "iopub.execute_input": "2022-08-03T01:45:17.644623Z",
     "iopub.status.busy": "2022-08-03T01:45:17.643674Z",
     "iopub.status.idle": "2022-08-03T01:45:28.173440Z",
     "shell.execute_reply": "2022-08-03T01:45:28.171818Z"
    },
    "papermill": {
     "duration": 10.566704,
     "end_time": "2022-08-03T01:45:28.176400",
     "exception": false,
     "start_time": "2022-08-03T01:45:17.609696",
     "status": "completed"
    },
    "tags": []
   },
   "outputs": [],
   "source": [
    "submission = pd.read_csv('../input/nlp-getting-started/sample_submission.csv')\n",
    "labels = np.array(tf.sigmoid(model.predict(test_df)))\n",
    "labels[labels>0.5] = 1\n",
    "labels[labels<=0.5] = 0\n",
    "submission['target'] = labels\n",
    "submission = submission.astype(int)\n",
    "submission.dtypes\n",
    "submission.to_csv('submission.csv', index=False)\n",
    "        \n",
    "                    "
   ]
  }
 ],
 "metadata": {
  "kernelspec": {
   "display_name": "Python 3",
   "language": "python",
   "name": "python3"
  },
  "language_info": {
   "codemirror_mode": {
    "name": "ipython",
    "version": 3
   },
   "file_extension": ".py",
   "mimetype": "text/x-python",
   "name": "python",
   "nbconvert_exporter": "python",
   "pygments_lexer": "ipython3",
   "version": "3.7.12"
  },
  "papermill": {
   "default_parameters": {},
   "duration": 157.850325,
   "end_time": "2022-08-03T01:45:30.954467",
   "environment_variables": {},
   "exception": null,
   "input_path": "__notebook__.ipynb",
   "output_path": "__notebook__.ipynb",
   "parameters": {},
   "start_time": "2022-08-03T01:42:53.104142",
   "version": "2.3.4"
  }
 },
 "nbformat": 4,
 "nbformat_minor": 5
}
